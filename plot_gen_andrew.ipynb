{
 "cells": [
  {
   "cell_type": "code",
   "execution_count": 181,
   "metadata": {
    "ExecuteTime": {
     "end_time": "2024-05-27T21:41:52.809254600Z",
     "start_time": "2024-05-27T21:41:52.706357900Z"
    }
   },
   "outputs": [],
   "source": [
    "import matplotlib.pyplot as plt"
   ]
  },
  {
   "cell_type": "code",
   "execution_count": 182,
   "metadata": {
    "ExecuteTime": {
     "end_time": "2024-05-27T21:41:52.830705600Z",
     "start_time": "2024-05-27T21:41:52.770341600Z"
    }
   },
   "outputs": [
    {
     "name": "stdout",
     "output_type": "stream",
     "text": [
      "Skipping folder: 2024-05-25-15-02-02_textual_vanilla_classifier_50\n",
      "Skipping folder: 2024-05-25-15-15-34_textual_softmax_50\n",
      "Skipping folder: 2024-05-25-15-28-49_textual_MLP_50\n",
      "Skipping folder: 2024-05-25-15-46-57_textual_transformer_512_50\n",
      "Skipping folder: 2024-05-25-16-07-13_textual_transformer_MLP_512_50\n",
      "Skipping folder: 2024-05-26-10-00-36_risk_softmax_5\n",
      "Skipping folder: 2024-05-26-10-06-38_risk_softmax_10\n",
      "Skipping folder: 2024-05-26-10-16-01_risk_softmax_15\n",
      "Skipping folder: 2024-05-26-10-27-26_risk_softmax_20\n",
      "Skipping folder: 2024-05-26-10-42-13_risk_softmax_25\n",
      "Skipping folder: 2024-05-26-13-23-09_risk_vanilla_classifier\n",
      "Skipping folder: 2024-05-27-14-01-10_risk_vanilla_classifier\n",
      "Skipping folder: 2024-05-27-19-52-43_textual_softmax_top_2000_50\n"
     ]
    }
   ],
   "source": [
    "import os\n",
    "import json\n",
    "\n",
    "# Define the path to the results folders\n",
    "results_folder = 'results'\n",
    "consistency_type = 'risk'\n",
    "skip = ['MLP', 'transformer_MLP_512'] \n",
    "samples = 50\n",
    "# Get the list of folders in the results folder\n",
    "folders = os.listdir(results_folder)\n",
    "data_dict = {}\n",
    "\n",
    "# Iterate over the folders\n",
    "for folder in folders:\n",
    "    # Construct the path to the results.json file\n",
    "    results_file = os.path.join(results_folder, folder, 'data', 'results.json')\n",
    "    if consistency_type not in folder:\n",
    "        print(f\"Skipping folder: {folder}\")\n",
    "        continue\n",
    "    if str(samples) not in folder:\n",
    "        print(f\"Skipping folder: {folder}\")\n",
    "        continue\n",
    "    # Check if the results.json file exists\n",
    "    if not os.path.exists(results_file):\n",
    "        print(f\"File not found: {results_file}\")\n",
    "        continue\n",
    "    \n",
    "\n",
    "        \n",
    "    with open(results_file, 'r') as f:\n",
    "        data = json.load(f)\n",
    "    \n",
    "    # get the folder name which is the string between the consistency type and the sample size\n",
    "    folder_name = folder.split(consistency_type)[1].split(str(samples))[0]\n",
    "    # remove leading and trailing underscores\n",
    "    folder_name = folder_name.strip('_')\n",
    "    if folder_name in skip:\n",
    "        print(f\"Skipping folder: {folder}\")\n",
    "        continue\n",
    "    # Store the data in the dictionary, using the edited folder name as the key\n",
    "    data_dict[folder_name] = data"
   ]
  },
  {
   "cell_type": "code",
   "outputs": [],
   "source": [],
   "metadata": {
    "collapsed": false,
    "ExecuteTime": {
     "end_time": "2024-05-27T21:41:52.859514500Z",
     "start_time": "2024-05-27T21:41:52.821896800Z"
    }
   },
   "execution_count": 182
  },
  {
   "cell_type": "code",
   "outputs": [
    {
     "data": {
      "text/plain": "dict_keys(['vanilla_classifier', 'transformer', 'softmax', 'transformer_512', 'softmax_top_2000'])"
     },
     "execution_count": 183,
     "metadata": {},
     "output_type": "execute_result"
    }
   ],
   "source": [
    "data_dict.keys()"
   ],
   "metadata": {
    "collapsed": false,
    "ExecuteTime": {
     "end_time": "2024-05-27T21:41:52.876576400Z",
     "start_time": "2024-05-27T21:41:52.863607100Z"
    }
   },
   "execution_count": 183
  },
  {
   "cell_type": "code",
   "outputs": [],
   "source": [],
   "metadata": {
    "collapsed": false,
    "ExecuteTime": {
     "end_time": "2024-05-27T21:41:52.911432Z",
     "start_time": "2024-05-27T21:41:52.878152900Z"
    }
   },
   "execution_count": 183
  },
  {
   "cell_type": "markdown",
   "source": [],
   "metadata": {
    "collapsed": false
   }
  },
  {
   "cell_type": "code",
   "outputs": [],
   "source": [
    "# del data_dict['transformer']"
   ],
   "metadata": {
    "collapsed": false,
    "ExecuteTime": {
     "end_time": "2024-05-27T21:41:52.914542Z",
     "start_time": "2024-05-27T21:41:52.892498100Z"
    }
   },
   "execution_count": 184
  },
  {
   "cell_type": "code",
   "execution_count": 185,
   "metadata": {
    "ExecuteTime": {
     "end_time": "2024-05-27T21:41:52.927554100Z",
     "start_time": "2024-05-27T21:41:52.910373300Z"
    }
   },
   "outputs": [],
   "source": [
    "deltas = data_dict['softmax']['deltas']\n",
    "lambda_list = [(key, data_dict[key]['lambdas']) for key in data_dict.keys()]\n",
    "L_val_list = [(key, data_dict[key]['L_vals']) for key in data_dict.keys()]\n",
    "exit_layer_list = [(key, [dic['predict_block_avg'] for dic in data_dict[key]['metrics']]) for key in data_dict.keys()]"
   ]
  },
  {
   "cell_type": "code",
   "outputs": [
    {
     "ename": "ValueError",
     "evalue": "x and y must have same first dimension, but have shapes (11,) and (1,)",
     "output_type": "error",
     "traceback": [
      "\u001B[1;31m---------------------------------------------------------------------------\u001B[0m",
      "\u001B[1;31mValueError\u001B[0m                                Traceback (most recent call last)",
      "Cell \u001B[1;32mIn[186], line 4\u001B[0m\n\u001B[0;32m      2\u001B[0m plt\u001B[38;5;241m.\u001B[39mfigure(figsize\u001B[38;5;241m=\u001B[39m(\u001B[38;5;241m10\u001B[39m, \u001B[38;5;241m5\u001B[39m))\n\u001B[0;32m      3\u001B[0m \u001B[38;5;28;01mfor\u001B[39;00m name, model_performance \u001B[38;5;129;01min\u001B[39;00m L_val_list:\n\u001B[1;32m----> 4\u001B[0m     \u001B[43mplt\u001B[49m\u001B[38;5;241;43m.\u001B[39;49m\u001B[43mplot\u001B[49m\u001B[43m(\u001B[49m\u001B[43mdeltas\u001B[49m\u001B[43m,\u001B[49m\u001B[43m \u001B[49m\u001B[43mmodel_performance\u001B[49m\u001B[43m,\u001B[49m\u001B[43m \u001B[49m\u001B[43mmarker\u001B[49m\u001B[38;5;241;43m=\u001B[39;49m\u001B[38;5;124;43m'\u001B[39;49m\u001B[38;5;124;43mo\u001B[39;49m\u001B[38;5;124;43m'\u001B[39;49m\u001B[43m,\u001B[49m\u001B[43m \u001B[49m\u001B[43mlabel\u001B[49m\u001B[38;5;241;43m=\u001B[39;49m\u001B[38;5;124;43mf\u001B[39;49m\u001B[38;5;124;43m'\u001B[39;49m\u001B[38;5;132;43;01m{\u001B[39;49;00m\u001B[43mname\u001B[49m\u001B[38;5;132;43;01m}\u001B[39;49;00m\u001B[38;5;124;43m'\u001B[39;49m\u001B[43m)\u001B[49m\n\u001B[0;32m      5\u001B[0m plt\u001B[38;5;241m.\u001B[39mplot([\u001B[38;5;241m0\u001B[39m, \u001B[38;5;241m1\u001B[39m], [\u001B[38;5;241m0\u001B[39m, \u001B[38;5;241m1\u001B[39m], color\u001B[38;5;241m=\u001B[39m\u001B[38;5;124m'\u001B[39m\u001B[38;5;124mblack\u001B[39m\u001B[38;5;124m'\u001B[39m, label\u001B[38;5;241m=\u001B[39m\u001B[38;5;124m'\u001B[39m\u001B[38;5;124mdiagonal\u001B[39m\u001B[38;5;124m'\u001B[39m)\n\u001B[0;32m      6\u001B[0m plt\u001B[38;5;241m.\u001B[39mtitle(\u001B[38;5;124m'\u001B[39m\u001B[38;5;124mDelta vs Dissimilarity\u001B[39m\u001B[38;5;124m'\u001B[39m)\n",
      "File \u001B[1;32m~\\Documents\\GitHub\\DL2-CALM\\.venv\\lib\\site-packages\\matplotlib\\pyplot.py:3590\u001B[0m, in \u001B[0;36mplot\u001B[1;34m(scalex, scaley, data, *args, **kwargs)\u001B[0m\n\u001B[0;32m   3582\u001B[0m \u001B[38;5;129m@_copy_docstring_and_deprecators\u001B[39m(Axes\u001B[38;5;241m.\u001B[39mplot)\n\u001B[0;32m   3583\u001B[0m \u001B[38;5;28;01mdef\u001B[39;00m \u001B[38;5;21mplot\u001B[39m(\n\u001B[0;32m   3584\u001B[0m     \u001B[38;5;241m*\u001B[39margs: \u001B[38;5;28mfloat\u001B[39m \u001B[38;5;241m|\u001B[39m ArrayLike \u001B[38;5;241m|\u001B[39m \u001B[38;5;28mstr\u001B[39m,\n\u001B[1;32m   (...)\u001B[0m\n\u001B[0;32m   3588\u001B[0m     \u001B[38;5;241m*\u001B[39m\u001B[38;5;241m*\u001B[39mkwargs,\n\u001B[0;32m   3589\u001B[0m ) \u001B[38;5;241m-\u001B[39m\u001B[38;5;241m>\u001B[39m \u001B[38;5;28mlist\u001B[39m[Line2D]:\n\u001B[1;32m-> 3590\u001B[0m     \u001B[38;5;28;01mreturn\u001B[39;00m gca()\u001B[38;5;241m.\u001B[39mplot(\n\u001B[0;32m   3591\u001B[0m         \u001B[38;5;241m*\u001B[39margs,\n\u001B[0;32m   3592\u001B[0m         scalex\u001B[38;5;241m=\u001B[39mscalex,\n\u001B[0;32m   3593\u001B[0m         scaley\u001B[38;5;241m=\u001B[39mscaley,\n\u001B[0;32m   3594\u001B[0m         \u001B[38;5;241m*\u001B[39m\u001B[38;5;241m*\u001B[39m({\u001B[38;5;124m\"\u001B[39m\u001B[38;5;124mdata\u001B[39m\u001B[38;5;124m\"\u001B[39m: data} \u001B[38;5;28;01mif\u001B[39;00m data \u001B[38;5;129;01mis\u001B[39;00m \u001B[38;5;129;01mnot\u001B[39;00m \u001B[38;5;28;01mNone\u001B[39;00m \u001B[38;5;28;01melse\u001B[39;00m {}),\n\u001B[0;32m   3595\u001B[0m         \u001B[38;5;241m*\u001B[39m\u001B[38;5;241m*\u001B[39mkwargs,\n\u001B[0;32m   3596\u001B[0m     )\n",
      "File \u001B[1;32m~\\Documents\\GitHub\\DL2-CALM\\.venv\\lib\\site-packages\\matplotlib\\axes\\_axes.py:1724\u001B[0m, in \u001B[0;36mAxes.plot\u001B[1;34m(self, scalex, scaley, data, *args, **kwargs)\u001B[0m\n\u001B[0;32m   1481\u001B[0m \u001B[38;5;250m\u001B[39m\u001B[38;5;124;03m\"\"\"\u001B[39;00m\n\u001B[0;32m   1482\u001B[0m \u001B[38;5;124;03mPlot y versus x as lines and/or markers.\u001B[39;00m\n\u001B[0;32m   1483\u001B[0m \n\u001B[1;32m   (...)\u001B[0m\n\u001B[0;32m   1721\u001B[0m \u001B[38;5;124;03m(``'green'``) or hex strings (``'#008000'``).\u001B[39;00m\n\u001B[0;32m   1722\u001B[0m \u001B[38;5;124;03m\"\"\"\u001B[39;00m\n\u001B[0;32m   1723\u001B[0m kwargs \u001B[38;5;241m=\u001B[39m cbook\u001B[38;5;241m.\u001B[39mnormalize_kwargs(kwargs, mlines\u001B[38;5;241m.\u001B[39mLine2D)\n\u001B[1;32m-> 1724\u001B[0m lines \u001B[38;5;241m=\u001B[39m [\u001B[38;5;241m*\u001B[39m\u001B[38;5;28mself\u001B[39m\u001B[38;5;241m.\u001B[39m_get_lines(\u001B[38;5;28mself\u001B[39m, \u001B[38;5;241m*\u001B[39margs, data\u001B[38;5;241m=\u001B[39mdata, \u001B[38;5;241m*\u001B[39m\u001B[38;5;241m*\u001B[39mkwargs)]\n\u001B[0;32m   1725\u001B[0m \u001B[38;5;28;01mfor\u001B[39;00m line \u001B[38;5;129;01min\u001B[39;00m lines:\n\u001B[0;32m   1726\u001B[0m     \u001B[38;5;28mself\u001B[39m\u001B[38;5;241m.\u001B[39madd_line(line)\n",
      "File \u001B[1;32m~\\Documents\\GitHub\\DL2-CALM\\.venv\\lib\\site-packages\\matplotlib\\axes\\_base.py:303\u001B[0m, in \u001B[0;36m_process_plot_var_args.__call__\u001B[1;34m(self, axes, data, *args, **kwargs)\u001B[0m\n\u001B[0;32m    301\u001B[0m     this \u001B[38;5;241m+\u001B[39m\u001B[38;5;241m=\u001B[39m args[\u001B[38;5;241m0\u001B[39m],\n\u001B[0;32m    302\u001B[0m     args \u001B[38;5;241m=\u001B[39m args[\u001B[38;5;241m1\u001B[39m:]\n\u001B[1;32m--> 303\u001B[0m \u001B[38;5;28;01myield from\u001B[39;00m \u001B[38;5;28;43mself\u001B[39;49m\u001B[38;5;241;43m.\u001B[39;49m\u001B[43m_plot_args\u001B[49m\u001B[43m(\u001B[49m\n\u001B[0;32m    304\u001B[0m \u001B[43m    \u001B[49m\u001B[43maxes\u001B[49m\u001B[43m,\u001B[49m\u001B[43m \u001B[49m\u001B[43mthis\u001B[49m\u001B[43m,\u001B[49m\u001B[43m \u001B[49m\u001B[43mkwargs\u001B[49m\u001B[43m,\u001B[49m\u001B[43m \u001B[49m\u001B[43mambiguous_fmt_datakey\u001B[49m\u001B[38;5;241;43m=\u001B[39;49m\u001B[43mambiguous_fmt_datakey\u001B[49m\u001B[43m)\u001B[49m\n",
      "File \u001B[1;32m~\\Documents\\GitHub\\DL2-CALM\\.venv\\lib\\site-packages\\matplotlib\\axes\\_base.py:499\u001B[0m, in \u001B[0;36m_process_plot_var_args._plot_args\u001B[1;34m(self, axes, tup, kwargs, return_kwargs, ambiguous_fmt_datakey)\u001B[0m\n\u001B[0;32m    496\u001B[0m     axes\u001B[38;5;241m.\u001B[39myaxis\u001B[38;5;241m.\u001B[39mupdate_units(y)\n\u001B[0;32m    498\u001B[0m \u001B[38;5;28;01mif\u001B[39;00m x\u001B[38;5;241m.\u001B[39mshape[\u001B[38;5;241m0\u001B[39m] \u001B[38;5;241m!=\u001B[39m y\u001B[38;5;241m.\u001B[39mshape[\u001B[38;5;241m0\u001B[39m]:\n\u001B[1;32m--> 499\u001B[0m     \u001B[38;5;28;01mraise\u001B[39;00m \u001B[38;5;167;01mValueError\u001B[39;00m(\u001B[38;5;124mf\u001B[39m\u001B[38;5;124m\"\u001B[39m\u001B[38;5;124mx and y must have same first dimension, but \u001B[39m\u001B[38;5;124m\"\u001B[39m\n\u001B[0;32m    500\u001B[0m                      \u001B[38;5;124mf\u001B[39m\u001B[38;5;124m\"\u001B[39m\u001B[38;5;124mhave shapes \u001B[39m\u001B[38;5;132;01m{\u001B[39;00mx\u001B[38;5;241m.\u001B[39mshape\u001B[38;5;132;01m}\u001B[39;00m\u001B[38;5;124m and \u001B[39m\u001B[38;5;132;01m{\u001B[39;00my\u001B[38;5;241m.\u001B[39mshape\u001B[38;5;132;01m}\u001B[39;00m\u001B[38;5;124m\"\u001B[39m)\n\u001B[0;32m    501\u001B[0m \u001B[38;5;28;01mif\u001B[39;00m x\u001B[38;5;241m.\u001B[39mndim \u001B[38;5;241m>\u001B[39m \u001B[38;5;241m2\u001B[39m \u001B[38;5;129;01mor\u001B[39;00m y\u001B[38;5;241m.\u001B[39mndim \u001B[38;5;241m>\u001B[39m \u001B[38;5;241m2\u001B[39m:\n\u001B[0;32m    502\u001B[0m     \u001B[38;5;28;01mraise\u001B[39;00m \u001B[38;5;167;01mValueError\u001B[39;00m(\u001B[38;5;124mf\u001B[39m\u001B[38;5;124m\"\u001B[39m\u001B[38;5;124mx and y can be no greater than 2D, but have \u001B[39m\u001B[38;5;124m\"\u001B[39m\n\u001B[0;32m    503\u001B[0m                      \u001B[38;5;124mf\u001B[39m\u001B[38;5;124m\"\u001B[39m\u001B[38;5;124mshapes \u001B[39m\u001B[38;5;132;01m{\u001B[39;00mx\u001B[38;5;241m.\u001B[39mshape\u001B[38;5;132;01m}\u001B[39;00m\u001B[38;5;124m and \u001B[39m\u001B[38;5;132;01m{\u001B[39;00my\u001B[38;5;241m.\u001B[39mshape\u001B[38;5;132;01m}\u001B[39;00m\u001B[38;5;124m\"\u001B[39m)\n",
      "\u001B[1;31mValueError\u001B[0m: x and y must have same first dimension, but have shapes (11,) and (1,)"
     ]
    },
    {
     "data": {
      "text/plain": "<Figure size 1000x500 with 1 Axes>",
      "image/png": "[encoded data removed]"
     },
     "metadata": {},
     "output_type": "display_data"
    }
   ],
   "source": [
    "# Plot 1: Delta vs Dissimilarity\n",
    "plt.figure(figsize=(10, 5))\n",
    "for name, model_performance in L_val_list:\n",
    "    plt.plot(deltas, model_performance, marker='o', label=f'{name}')\n",
    "plt.plot([0, 1], [0, 1], color='black', label='diagonal')\n",
    "plt.title('Delta vs Dissimilarity')\n",
    "plt.xlabel('Delta')\n",
    "if consistency_type == \"textual\":\n",
    "    plt.ylabel('D(Y_early, Y_full) by RougeLsum')\n",
    "else:\n",
    "    plt.ylabel('R_early-R_full')\n",
    "plt.grid(True)\n",
    "plt.legend()\n",
    "plt.tight_layout()\n",
    "plt.savefig(f\"./plots/calibration/delta_vs_dissimilarity_{consistency_type}.png\")\n",
    "plt.show()"
   ],
   "metadata": {
    "collapsed": false,
    "ExecuteTime": {
     "end_time": "2024-05-27T21:41:53.271373800Z",
     "start_time": "2024-05-27T21:41:52.926364300Z"
    }
   },
   "execution_count": 186
  },
  {
   "cell_type": "code",
   "execution_count": null,
   "metadata": {
    "ExecuteTime": {
     "start_time": "2024-05-27T21:41:53.191750800Z"
    }
   },
   "outputs": [],
   "source": [
    "for name, model_performance in lambda_list:\n",
    "    plt.plot(deltas, model_performance, marker='o', label=f'{name}')\n",
    "\n",
    "# Adding labels and title\n",
    "plt.title('Delta vs lambda_min')\n",
    "plt.xlabel('Delta')\n",
    "plt.ylabel('lambda_min')\n",
    "plt.grid(True)\n",
    "plt.legend()\n",
    "plt.savefig(f\"./plots/calibration/delta_vs_lambda_min_{consistency_type}.png\")\n",
    "# Show plot\n",
    "plt.show()"
   ]
  },
  {
   "cell_type": "code",
   "execution_count": null,
   "metadata": {
    "ExecuteTime": {
     "start_time": "2024-05-27T21:41:53.193803800Z"
    }
   },
   "outputs": [],
   "source": [
    "for name, model_performance in exit_layer_list:\n",
    "    plt.plot(deltas, model_performance, marker='o', label=f'{name}')\n",
    "\n",
    "# Adding labels and title\n",
    "plt.title(f'Delta vs Exit Layers')\n",
    "plt.axhline(y=6, color='black', linestyle='--', label='Full Model')  # Add horizontal line\n",
    "plt.xlabel('Delta')\n",
    "plt.ylabel('Exit Layers')\n",
    "plt.grid(True)\n",
    "plt.legend()\n",
    "plt.savefig(f\"./plots/calibration/delta_vs_exit_layers_{consistency_type}.png\")\n",
    "\n",
    "# Show plot\n",
    "plt.show()"
   ]
  },
  {
   "cell_type": "markdown",
   "source": [
    "# Sample size effects"
   ],
   "metadata": {
    "collapsed": false
   }
  },
  {
   "cell_type": "code",
   "execution_count": null,
   "metadata": {
    "ExecuteTime": {
     "start_time": "2024-05-27T21:41:53.196362100Z"
    }
   },
   "outputs": [],
   "source": [
    "import os\n",
    "import json\n",
    "import matplotlib.pyplot as plt\n",
    "\n",
    "# Define the path to the results folders\n",
    "results_folder = 'results'\n",
    "measure = \"softmax\"\n",
    "# Filter criteria\n",
    "consistency_type = 'risk'  # Change this to your desired consistency type\n",
    "\n",
    "# Function to parse the folder names and extract sample size\n",
    "def parse_folder_name(folder_name):\n",
    "    parts = folder_name.split('_')\n",
    "    return {\n",
    "        'timestamp': parts[0],\n",
    "        'model_type': parts[2],\n",
    "        'consistency_type': parts[1],\n",
    "        'samples': int(parts[-1])\n",
    "    }\n",
    "\n",
    "# Get the list of folders in the results folder\n",
    "folders = os.listdir(results_folder)\n",
    "data_dict = {}\n"
   ]
  },
  {
   "cell_type": "code",
   "outputs": [],
   "source": [
    "folders"
   ],
   "metadata": {
    "collapsed": false,
    "ExecuteTime": {
     "start_time": "2024-05-27T21:41:53.198411600Z"
    }
   },
   "execution_count": null
  },
  {
   "cell_type": "code",
   "outputs": [],
   "source": [
    "# Iterate over the folders and filter by consistency type\n",
    "for folder in folders:\n",
    "    folder_info = parse_folder_name(folder)\n",
    "    print(folder_info)\n",
    "    if folder_info['consistency_type'] != consistency_type:\n",
    "        continue\n",
    "    \n",
    "    # Construct the path to the results.json file\n",
    "    results_file = os.path.join(results_folder, folder, 'data', 'results.json')\n",
    "    \n",
    "    if not os.path.exists(results_file):\n",
    "        print(f\"File not found: {results_file}\")\n",
    "        continue\n",
    "    \n",
    "    if not folder_info['model_type'] == measure:\n",
    "        continue\n",
    "    \n",
    "    with open(results_file, 'r') as f:\n",
    "        data = json.load(f)\n",
    "    \n",
    "    # Store the data in the dictionary, using the sample size as the key\n",
    "    sample_size = folder_info['samples']\n",
    "    data_dict[sample_size] = []\n",
    "    \n",
    "    data_dict[sample_size].append(data)"
   ],
   "metadata": {
    "collapsed": false,
    "ExecuteTime": {
     "start_time": "2024-05-27T21:41:53.200505600Z"
    }
   },
   "execution_count": null
  },
  {
   "cell_type": "code",
   "outputs": [],
   "source": [
    "data_dict.keys()"
   ],
   "metadata": {
    "collapsed": false,
    "ExecuteTime": {
     "start_time": "2024-05-27T21:41:53.205736800Z"
    }
   },
   "execution_count": null
  },
  {
   "cell_type": "code",
   "outputs": [],
   "source": [
    "\n",
    "\n",
    "\n",
    "# Example keys for deltas and dissimilarities (update these based on your JSON structure)\n",
    "delta_key = 'deltas'\n",
    "dissimilarity_key = 'L_vals'\n",
    "\n",
    "# Plotting\n",
    "fig, ax = plt.subplots(figsize=(10, 6))\n",
    "\n",
    "for sample_size, data_list in data_dict.items():\n",
    "    # Aggregate deltas and dissimilarities for each sample size\n",
    "    deltas = []\n",
    "    dissimilarities = []\n",
    "    for data in data_list:\n",
    "        deltas.extend(data[delta_key])\n",
    "        dissimilarities.extend(data[dissimilarity_key])\n",
    "    \n",
    "    ax.plot(deltas, dissimilarities, marker='o', label=f'samples={sample_size}')\n",
    "\n",
    "# Adding labels and title\n",
    "ax.set_title('Delta vs Dissimilarity for Different Sample Sizes')\n",
    "ax.set_xlabel('Delta')\n",
    "ax.set_ylabel('Dissimilarity')\n",
    "ax.grid(True)\n",
    "ax.legend()\n",
    "\n",
    "plt.tight_layout()\n",
    "plt.savefig(f\"plots/calibration/dissimilarity_samples_sizes_{consistency_type}.png\")\n",
    "plt.show()\n"
   ],
   "metadata": {
    "collapsed": false,
    "ExecuteTime": {
     "start_time": "2024-05-27T21:41:53.206242100Z"
    }
   },
   "execution_count": null
  },
  {
   "cell_type": "code",
   "outputs": [],
   "source": [
    "data"
   ],
   "metadata": {
    "collapsed": false,
    "ExecuteTime": {
     "start_time": "2024-05-27T21:41:53.208576400Z"
    }
   },
   "execution_count": null
  },
  {
   "cell_type": "code",
   "outputs": [],
   "source": [
    "import matplotlib.pyplot as plt\n",
    "\n",
    "# Example keys for deltas and exit layers (update these based on your JSON structure)\n",
    "delta_key = 'deltas'\n",
    "exit_layer_key = 'predict_block_avg'\n",
    "\n",
    "\n",
    "# Plotting\n",
    "# Plotting\n",
    "fig, ax = plt.subplots(figsize=(10, 6))\n",
    "\n",
    "for sample_size, data_list in data_dict.items():\n",
    "    for data in data_list:\n",
    "        deltas = data[delta_key]\n",
    "        exit_layers = [metric[exit_layer_key] for metric in data['metrics']]\n",
    "        \n",
    "        ax.plot(deltas, exit_layers, marker='o', label=f'samples={sample_size}')\n",
    "\n",
    "# Adding labels and title\n",
    "ax.set_title('Delta vs Exit Layer for Different Sample Sizes')\n",
    "ax.set_xlabel('Delta')\n",
    "ax.set_ylabel('Exit Layer')\n",
    "ax.grid(True)\n",
    "ax.legend()\n",
    "\n",
    "plt.tight_layout()\n",
    "plt.savefig(f\"plots/calibration/delta_exit_layer_samples_sizes_{consistency_type}.png\")\n",
    "plt.show()\n"
   ],
   "metadata": {
    "collapsed": false,
    "ExecuteTime": {
     "start_time": "2024-05-27T21:41:53.210713700Z"
    }
   },
   "execution_count": null
  },
  {
   "cell_type": "markdown",
   "source": [
    "## Generate table 2 from section 6"
   ],
   "metadata": {
    "collapsed": false
   }
  },
  {
   "cell_type": "code",
   "outputs": [],
   "source": [
    "import json\n",
    "import pandas as pd\n",
    "\n",
    "def load_metrics(file_path):\n",
    "    with open(file_path, 'r') as file:\n",
    "        data = json.load(file)\n",
    "    return data['metrics'], data['deltas']\n",
    "\n",
    "\n",
    "def extract_data(metrics, deltas, measure, consistency_type, selected_deltas):\n",
    "    data = []\n",
    "    delta_indices = {delta: idx for idx, delta in enumerate(deltas)}\n",
    "\n",
    "    for delta in selected_deltas:\n",
    "        idx = delta_indices[delta]\n",
    "        # Extracting the first and last metrics for the given delta\n",
    "        first_metric = metrics[idx]\n",
    "        last_metric = metrics[-len(deltas) + idx]\n",
    "\n",
    "        # Calculating speedup and FLOPs ratio as multipliers\n",
    "        # speedup = first_metric['predict_runtime'] / last_metric['predict_runtime']\n",
    "        # flops_r = first_metric['predict_samples_per_second'] / last_metric['predict_samples_per_second']\n",
    "\n",
    "        # Extracting the necessary metrics\n",
    "        layers = last_metric['predict_block_avg']\n",
    "\n",
    "        # Append the row to data\n",
    "        data.append([delta, consistency_type, measure, layers ])\n",
    "    \n",
    "    return data\n",
    "\n",
    "\n",
    "# Define file paths and other parameters\n",
    "file_paths = {\n",
    "    'softmax': {\n",
    "        'textual': 'results/2024-05-25-15-15-34_textual_softmax_50/data/results.json',\n",
    "        'risk': 'results/2024-05-27-12-25-06_risk_softmax_50/data/results.json'\n",
    "    },\n",
    "    'classifier': {\n",
    "        'textual': 'results/2024-05-25-15-02-02_textual_vanilla_classifier_50/data/results.json',\n",
    "        'risk': 'results/2024-05-25-18-46-22_risk_vanilla_classifier_50/data/results.json'\n",
    "    }\n",
    "}\n",
    "\n",
    "# Define the consistency types and the selected deltas for each measure\n",
    "consistency_types = {\n",
    "    'textual': 'Textual consistency',\n",
    "    'risk': 'Risk consistency'\n",
    "}\n",
    "\n",
    "selected_deltas = [ 0.2, 0.4, 0.6000000000000001]  # Example values\n",
    "\n",
    "# Initialize an empty list to store table data\n",
    "table_data = []\n",
    "\n",
    "# Load and process each file\n",
    "for measure, paths in file_paths.items():\n",
    "    for consistency, file_path in paths.items():\n",
    "        metrics, deltas = load_metrics(file_path)\n",
    "        consistency_type = consistency_types[consistency]\n",
    "        table_data.extend(extract_data(metrics, deltas, measure, consistency_type, selected_deltas))\n",
    "\n",
    "# Create the DataFrame\n",
    "df = pd.DataFrame(table_data, columns=['delta', 'Consistency Type', 'Measure', 'Layers'])\n",
    "# convert df to markdown\n",
    "print(df.to_markdown())"
   ],
   "metadata": {
    "collapsed": false,
    "ExecuteTime": {
     "start_time": "2024-05-27T21:41:53.212820800Z"
    }
   },
   "execution_count": null
  },
  {
   "cell_type": "code",
   "outputs": [],
   "source": [
    "df"
   ],
   "metadata": {
    "collapsed": false,
    "ExecuteTime": {
     "start_time": "2024-05-27T21:41:53.213944400Z"
    }
   },
   "execution_count": null
  },
  {
   "cell_type": "code",
   "outputs": [],
   "source": [],
   "metadata": {
    "collapsed": false,
    "ExecuteTime": {
     "start_time": "2024-05-27T21:41:53.214943200Z"
    }
   },
   "execution_count": null
  }
 ],
 "metadata": {
  "kernelspec": {
   "display_name": "venv",
   "language": "python",
   "name": "python3"
  },
  "language_info": {
   "codemirror_mode": {
    "name": "ipython",
    "version": 3
   },
   "file_extension": ".py",
   "mimetype": "text/x-python",
   "name": "python",
   "nbconvert_exporter": "python",
   "pygments_lexer": "ipython3",
   "version": "3.11.9"
  }
 },
 "nbformat": 4,
 "nbformat_minor": 2
}
