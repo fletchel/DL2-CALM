{
 "cells": [
  {
   "cell_type": "code",
   "execution_count": 1,
   "metadata": {
    "ExecuteTime": {
     "end_time": "2024-05-27T21:37:01.858826700Z",
     "start_time": "2024-05-27T21:36:59.133152900Z"
    }
   },
   "outputs": [],
   "source": [
    "import matplotlib.pyplot as plt\n",
    "import os\n",
    "import json"
   ]
  },
  {
   "cell_type": "code",
   "execution_count": 2,
   "metadata": {
    "ExecuteTime": {
     "end_time": "2024-05-27T21:37:02.298421400Z",
     "start_time": "2024-05-27T21:37:01.861922200Z"
    }
   },
   "outputs": [
    {
     "ename": "FileNotFoundError",
     "evalue": "[Errno 2] No such file or directory: 'results\\\\2024-05-27-14-01-10_risk_vanilla_classifier\\\\data/results.json'",
     "output_type": "error",
     "traceback": [
      "\u001B[1;31m---------------------------------------------------------------------------\u001B[0m",
      "\u001B[1;31mFileNotFoundError\u001B[0m                         Traceback (most recent call last)",
      "Cell \u001B[1;32mIn[2], line 14\u001B[0m\n\u001B[0;32m     11\u001B[0m \u001B[38;5;28;01mfor\u001B[39;00m folder \u001B[38;5;129;01min\u001B[39;00m folders:\n\u001B[0;32m     12\u001B[0m     \u001B[38;5;66;03m# Construct the path to the results.json file\u001B[39;00m\n\u001B[0;32m     13\u001B[0m     results_file \u001B[38;5;241m=\u001B[39m os\u001B[38;5;241m.\u001B[39mpath\u001B[38;5;241m.\u001B[39mjoin(results_folder, folder, \u001B[38;5;124m'\u001B[39m\u001B[38;5;124mdata/results.json\u001B[39m\u001B[38;5;124m'\u001B[39m)\n\u001B[1;32m---> 14\u001B[0m     \u001B[38;5;28;01mwith\u001B[39;00m \u001B[38;5;28;43mopen\u001B[39;49m\u001B[43m(\u001B[49m\u001B[43mresults_file\u001B[49m\u001B[43m,\u001B[49m\u001B[43m \u001B[49m\u001B[38;5;124;43m'\u001B[39;49m\u001B[38;5;124;43mr\u001B[39;49m\u001B[38;5;124;43m'\u001B[39;49m\u001B[43m)\u001B[49m \u001B[38;5;28;01mas\u001B[39;00m f:\n\u001B[0;32m     15\u001B[0m         data \u001B[38;5;241m=\u001B[39m json\u001B[38;5;241m.\u001B[39mload(f)\n\u001B[0;32m     17\u001B[0m     \u001B[38;5;66;03m# Split the folder name by underscore and select the part you need\u001B[39;00m\n",
      "File \u001B[1;32m~\\Documents\\GitHub\\DL2-CALM\\.venv\\lib\\site-packages\\IPython\\core\\interactiveshell.py:310\u001B[0m, in \u001B[0;36m_modified_open\u001B[1;34m(file, *args, **kwargs)\u001B[0m\n\u001B[0;32m    303\u001B[0m \u001B[38;5;28;01mif\u001B[39;00m file \u001B[38;5;129;01min\u001B[39;00m {\u001B[38;5;241m0\u001B[39m, \u001B[38;5;241m1\u001B[39m, \u001B[38;5;241m2\u001B[39m}:\n\u001B[0;32m    304\u001B[0m     \u001B[38;5;28;01mraise\u001B[39;00m \u001B[38;5;167;01mValueError\u001B[39;00m(\n\u001B[0;32m    305\u001B[0m         \u001B[38;5;124mf\u001B[39m\u001B[38;5;124m\"\u001B[39m\u001B[38;5;124mIPython won\u001B[39m\u001B[38;5;124m'\u001B[39m\u001B[38;5;124mt let you open fd=\u001B[39m\u001B[38;5;132;01m{\u001B[39;00mfile\u001B[38;5;132;01m}\u001B[39;00m\u001B[38;5;124m by default \u001B[39m\u001B[38;5;124m\"\u001B[39m\n\u001B[0;32m    306\u001B[0m         \u001B[38;5;124m\"\u001B[39m\u001B[38;5;124mas it is likely to crash IPython. If you know what you are doing, \u001B[39m\u001B[38;5;124m\"\u001B[39m\n\u001B[0;32m    307\u001B[0m         \u001B[38;5;124m\"\u001B[39m\u001B[38;5;124myou can use builtins\u001B[39m\u001B[38;5;124m'\u001B[39m\u001B[38;5;124m open.\u001B[39m\u001B[38;5;124m\"\u001B[39m\n\u001B[0;32m    308\u001B[0m     )\n\u001B[1;32m--> 310\u001B[0m \u001B[38;5;28;01mreturn\u001B[39;00m io_open(file, \u001B[38;5;241m*\u001B[39margs, \u001B[38;5;241m*\u001B[39m\u001B[38;5;241m*\u001B[39mkwargs)\n",
      "\u001B[1;31mFileNotFoundError\u001B[0m: [Errno 2] No such file or directory: 'results\\\\2024-05-27-14-01-10_risk_vanilla_classifier\\\\data/results.json'"
     ]
    }
   ],
   "source": [
    "# Define the path to the results folders\n",
    "results_folder = 'results'\n",
    "\n",
    "# Get the list of folders in the results folder\n",
    "folders = ['2024-05-27-14-01-10_risk_vanilla_classifier',\n",
    " '2024-05-27-14-43-40_risk_transformer_linear_512',\n",
    " '2024-05-25-18-26-55_risk_softmax']\n",
    "data_dict = {}\n",
    "\n",
    "# Iterate over the folders\n",
    "for folder in folders:\n",
    "    # Construct the path to the results.json file\n",
    "    results_file = os.path.join(results_folder, folder, 'data/results.json')\n",
    "    with open(results_file, 'r') as f:\n",
    "        data = json.load(f)\n",
    "    \n",
    "    # Split the folder name by underscore and select the part you need\n",
    "    edited_folder_name = '_'.join(folder.split('_')[1:])\n",
    "\n",
    "    # Store the data in the dictionary, using the edited folder name as the key\n",
    "    data_dict[edited_folder_name] = data"
   ]
  },
  {
   "cell_type": "code",
   "execution_count": null,
   "metadata": {
    "ExecuteTime": {
     "start_time": "2024-05-27T21:37:02.302672Z"
    }
   },
   "outputs": [],
   "source": [
    "folders = ['2024-05-27-14-01-10_risk_vanilla_classifier',\n",
    " '2024-05-27-14-43-40_risk_transformer_linear_512',\n",
    " '2024-05-25-18-26-55_risk_softmax']"
   ]
  },
  {
   "cell_type": "code",
   "execution_count": null,
   "metadata": {
    "ExecuteTime": {
     "end_time": "2024-05-27T21:37:02.308719Z",
     "start_time": "2024-05-27T21:37:02.306325Z"
    }
   },
   "outputs": [],
   "source": [
    "del data_dict['textual_transformer_MLP_512']\n",
    "del data_dict['textual_softmax']\n",
    "del data_dict['textual_MLP']\n",
    "del data_dict['textual_vanilla_classifier']"
   ]
  },
  {
   "cell_type": "code",
   "execution_count": null,
   "metadata": {
    "ExecuteTime": {
     "start_time": "2024-05-27T21:37:02.309881Z"
    }
   },
   "outputs": [],
   "source": [
    "del data_dict['textual_transformer_linear_512']"
   ]
  },
  {
   "cell_type": "code",
   "execution_count": null,
   "metadata": {
    "ExecuteTime": {
     "start_time": "2024-05-27T21:37:02.313012400Z"
    }
   },
   "outputs": [],
   "source": [
    "data_dict.keys()"
   ]
  },
  {
   "cell_type": "code",
   "execution_count": null,
   "metadata": {
    "ExecuteTime": {
     "start_time": "2024-05-27T21:37:02.315073900Z"
    }
   },
   "outputs": [],
   "source": [
    "deltas = data_dict['risk_softmax']['deltas']\n",
    "lambda_list = [(key, data_dict[key]['lambdas']) for key in data_dict.keys()]\n",
    "L_val_list = [(key, data_dict[key]['L_vals']) for key in data_dict.keys()]\n",
    "exit_layer_list = [(key, [dic['predict_block_avg'] for dic in data_dict[key]['metrics']]) for key in data_dict.keys()]"
   ]
  },
  {
   "cell_type": "code",
   "execution_count": null,
   "metadata": {
    "ExecuteTime": {
     "start_time": "2024-05-27T21:37:02.318041600Z"
    }
   },
   "outputs": [],
   "source": [
    "\n",
    "fig, axs = plt.subplots(3, 1, figsize=(10, 15))\n",
    "\n",
    "for name, model_performance in L_val_list:\n",
    "    axs[0].plot(deltas, model_performance, marker='o', label=f'{name}')\n",
    "\n",
    "# Adding labels and title\n",
    "axs[0].plot([0, 1], [0, 1], color='black', label='diagonal')\n",
    "axs[0].set_title('Delta vs Dissimilarity')\n",
    "axs[0].set_xlabel('Delta')\n",
    "axs[0].set_ylabel('R_early-R_full')\n",
    "axs[0].grid(True)\n",
    "axs[0].legend()\n",
    "\n",
    "for name, model_performance in lambda_list:\n",
    "    axs[1].plot(deltas, model_performance, marker='o', label=f'{name}')\n",
    "\n",
    "# Adding labels and title\n",
    "axs[1].set_title('Delta vs lambda_min')\n",
    "axs[1].set_xlabel('Delta')\n",
    "axs[1].set_ylabel('lambda_min')\n",
    "axs[1].grid(True)\n",
    "axs[1].legend()\n",
    "\n",
    "for name, model_performance in exit_layer_list:\n",
    "    axs[2].plot(deltas, model_performance, marker='o', label=f'{name}')\n",
    "\n",
    "# Adding labels and title\n",
    "axs[2].set_title('Delta vs Exit Layers')\n",
    "axs[2].axhline(y=6, color='black', linestyle='--', label='Full Model')  # Add horizontal line\n",
    "axs[2].set_xlabel('Delta')\n",
    "axs[2].set_ylabel('Exit Layers')\n",
    "axs[2].grid(True)\n",
    "axs[2].legend()\n",
    "\n",
    "plt.tight_layout()\n",
    "plt.show()"
   ]
  },
  {
   "cell_type": "code",
   "execution_count": null,
   "metadata": {
    "ExecuteTime": {
     "end_time": "2024-05-27T21:37:02.331580100Z",
     "start_time": "2024-05-27T21:37:02.320206700Z"
    }
   },
   "outputs": [],
   "source": [
    "for name, model_performance in lambda_list:\n",
    "    plt.plot(deltas, model_performance, marker='o', label=f'{name}')\n",
    "\n",
    "# Adding labels and title\n",
    "plt.title('Delta vs lambda_min')\n",
    "plt.xlabel('Delta')\n",
    "plt.ylabel('lambda_min')\n",
    "plt.grid(True)\n",
    "plt.legend()\n",
    "\n",
    "# Show plot\n",
    "plt.show()"
   ]
  },
  {
   "cell_type": "code",
   "execution_count": null,
   "metadata": {
    "ExecuteTime": {
     "start_time": "2024-05-27T21:37:02.321230800Z"
    }
   },
   "outputs": [],
   "source": [
    "for name, model_performance in exit_layer_list:\n",
    "    plt.plot(deltas, model_performance, marker='o', label=f'{name}')\n",
    "\n",
    "# Adding labels and title\n",
    "plt.title('Delta vs Exit Layers')\n",
    "plt.axhline(y=6, color='black', linestyle='--', label='Full Model')  # Add horizontal line\n",
    "plt.xlabel('Delta')\n",
    "plt.ylabel('Exit Layers')\n",
    "plt.grid(True)\n",
    "plt.legend()\n",
    "\n",
    "# Show plot\n",
    "plt.show()"
   ]
  },
  {
   "cell_type": "code",
   "execution_count": null,
   "metadata": {
    "ExecuteTime": {
     "start_time": "2024-05-27T21:37:02.323376100Z"
    }
   },
   "outputs": [],
   "source": []
  }
 ],
 "metadata": {
  "kernelspec": {
   "display_name": "venv",
   "language": "python",
   "name": "python3"
  },
  "language_info": {
   "codemirror_mode": {
    "name": "ipython",
    "version": 3
   },
   "file_extension": ".py",
   "mimetype": "text/x-python",
   "name": "python",
   "nbconvert_exporter": "python",
   "pygments_lexer": "ipython3",
   "version": "3.11.9"
  }
 },
 "nbformat": 4,
 "nbformat_minor": 2
}
